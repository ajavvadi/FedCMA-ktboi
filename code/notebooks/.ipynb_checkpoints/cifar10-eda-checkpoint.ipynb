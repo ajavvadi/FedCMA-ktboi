{
 "cells": [
  {
   "cell_type": "code",
   "execution_count": 1,
   "id": "39388eae",
   "metadata": {},
   "outputs": [],
   "source": [
    "import os\n",
    "\n",
    "import torch\n",
    "import torchvision\n",
    "\n",
    "import numpy as np\n",
    "import pickle"
   ]
  },
  {
   "cell_type": "code",
   "execution_count": 9,
   "id": "5c27e03e",
   "metadata": {},
   "outputs": [
    {
     "name": "stdout",
     "output_type": "stream",
     "text": [
      "Files already downloaded and verified\n",
      "Files already downloaded and verified\n",
      "train shape: (10000, 32, 32, 3)\n",
      "test shape: (10000, 32, 32, 3)\n"
     ]
    }
   ],
   "source": [
    "dataset_base = torchvision.datasets.CIFAR10(root=\"tempdata\", train = True, download=True)\n",
    "dataset_test = torchvision.datasets.CIFAR10(root=\"tempdata\", train = False, download=True)\n",
    "print(\"train shape: {1}\\ntest shape: {1}\".format(dataset_base.data.shape, dataset_test.data.shape))"
   ]
  },
  {
   "cell_type": "code",
   "execution_count": null,
   "id": "80b22c40",
   "metadata": {},
   "outputs": [],
   "source": []
  },
  {
   "cell_type": "code",
   "execution_count": null,
   "id": "d3c1c116",
   "metadata": {},
   "outputs": [],
   "source": []
  },
  {
   "cell_type": "code",
   "execution_count": 10,
   "id": "19a41c43",
   "metadata": {},
   "outputs": [],
   "source": [
    "def get_partitions(file_):\n",
    "        file = os.path.join(file_)\n",
    "        try:\n",
    "            with open(file, 'rb') as f:\n",
    "                partitions = pickle.load(f)\n",
    "        except:\n",
    "            raise\n",
    "\n",
    "        return partitions\n",
    "    \n",
    "data_file_name = \"CIFAR10-dirichlet-10-0.05-0.p.p\""
   ]
  },
  {
   "cell_type": "code",
   "execution_count": 11,
   "id": "de51d26d",
   "metadata": {},
   "outputs": [],
   "source": [
    "loaded_partitions = get_partitions(os.path.join('../data/dirichlet-CIFAR10', data_file_name))"
   ]
  },
  {
   "cell_type": "code",
   "execution_count": 12,
   "id": "0d8a20c8",
   "metadata": {},
   "outputs": [
    {
     "data": {
      "text/plain": [
       "(dict, dict_keys(['train', 'validation', 'test']), 10, dict)"
      ]
     },
     "execution_count": 12,
     "metadata": {},
     "output_type": "execute_result"
    }
   ],
   "source": [
    "type(loaded_partitions), loaded_partitions.keys(), len(loaded_partitions['train']), type(loaded_partitions['train'])"
   ]
  },
  {
   "cell_type": "code",
   "execution_count": 14,
   "id": "e40d0763",
   "metadata": {},
   "outputs": [
    {
     "data": {
      "text/plain": [
       "(dict_keys([0, 1, 2, 3, 4, 5, 6, 7, 8, 9]), 8171)"
      ]
     },
     "execution_count": 14,
     "metadata": {},
     "output_type": "execute_result"
    }
   ],
   "source": [
    "loaded_partitions['train'].keys(), len(loaded_partitions['train'][0])"
   ]
  },
  {
   "cell_type": "code",
   "execution_count": 26,
   "id": "5cbe9f0d",
   "metadata": {},
   "outputs": [
    {
     "name": "stdout",
     "output_type": "stream",
     "text": [
      "num data for 0th worker: 8171\n",
      "num data for 1th worker: 45\n",
      "num data for 2th worker: 6451\n",
      "num data for 3th worker: 4140\n",
      "num data for 4th worker: 1060\n",
      "num data for 5th worker: 6334\n",
      "num data for 6th worker: 7866\n",
      "num data for 7th worker: 7267\n",
      "num data for 8th worker: 2091\n",
      "num data for 9th worker: 1571\n",
      "Actual num in partitions: 44996\n",
      "Found num in set: 44996\n"
     ]
    }
   ],
   "source": [
    "train_set = set()\n",
    "test_set = set()\n",
    "validation_set = set()\n",
    "train_sum_original = 0\n",
    "train_sum_set = 0\n",
    "test_sum_original = 0\n",
    "test_sum_set = 0\n",
    "validation_sum_original = 0\n",
    "validation_sum_set = 0\n",
    "for i in list(loaded_partitions['train'].keys()):\n",
    "    print(\"num data for {0}th worker: {1}\".format(i, len(loaded_partitions['train'][i])))\n",
    "    train_sum_original += len(loaded_partitions['train'][i])\n",
    "    for filename in loaded_partitions['train'][i]:\n",
    "        all_files.add(int(filename))\n",
    "for i in list(loaded_partitions['test'].keys()):\n",
    "    print(\"num data for {0}th worker: {1}\".format(i, len(loaded_partitions['test'][i])))\n",
    "    test_sum_original += len(loaded_partitions['test'][i])\n",
    "    for filename in loaded_partitions['test'][i]:\n",
    "        all_files.add(int(filename))\n",
    "for i in list(loaded_partitions['validation'].keys()):\n",
    "    print(\"num data for {0}th worker: {1}\".format(i, len(loaded_partitions['validation'][i])))\n",
    "    validation_sum_original += len(loaded_partitions['validation'][i])\n",
    "    for filename in loaded_partitions['validation'][i]:\n",
    "        all_files.add(int(filename))\n",
    "\n",
    "print(\"Train_sum_original: {0}\".format())"
   ]
  },
  {
   "cell_type": "code",
   "execution_count": 22,
   "id": "f443e970",
   "metadata": {},
   "outputs": [
    {
     "data": {
      "text/plain": [
       "[0, 1, 2, 3, 4, 5, 6, 7, 8, 9]"
      ]
     },
     "execution_count": 22,
     "metadata": {},
     "output_type": "execute_result"
    }
   ],
   "source": []
  },
  {
   "cell_type": "code",
   "execution_count": null,
   "id": "f4247c6d",
   "metadata": {},
   "outputs": [],
   "source": []
  }
 ],
 "metadata": {
  "kernelspec": {
   "display_name": "Python 3 (ipykernel)",
   "language": "python",
   "name": "python3"
  },
  "language_info": {
   "codemirror_mode": {
    "name": "ipython",
    "version": 3
   },
   "file_extension": ".py",
   "mimetype": "text/x-python",
   "name": "python",
   "nbconvert_exporter": "python",
   "pygments_lexer": "ipython3",
   "version": "3.8.17"
  }
 },
 "nbformat": 4,
 "nbformat_minor": 5
}
