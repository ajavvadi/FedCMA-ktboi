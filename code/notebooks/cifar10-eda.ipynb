{
 "cells": [
  {
   "cell_type": "code",
   "execution_count": 2,
   "id": "39388eae",
   "metadata": {},
   "outputs": [],
   "source": [
    "import os\n",
    "\n",
    "import torch\n",
    "import torchvision\n",
    "\n",
    "import numpy as np\n",
    "import pickle"
   ]
  },
  {
   "cell_type": "code",
   "execution_count": 5,
   "id": "5c27e03e",
   "metadata": {},
   "outputs": [
    {
     "name": "stdout",
     "output_type": "stream",
     "text": [
      "Downloading https://www.cs.toronto.edu/~kriz/cifar-10-python.tar.gz to tempdata\\cifar-10-python.tar.gz\n"
     ]
    },
    {
     "name": "stderr",
     "output_type": "stream",
     "text": [
      "100%|████████████████████████████████████████████████████████████████| 170498071/170498071 [07:34<00:00, 375046.70it/s]\n"
     ]
    },
    {
     "name": "stdout",
     "output_type": "stream",
     "text": [
      "Extracting tempdata\\cifar-10-python.tar.gz to tempdata\n"
     ]
    }
   ],
   "source": [
    "dataset_base = torchvision.datasets.CIFAR10(root=\"tempdata\", train = True, download=True)"
   ]
  },
  {
   "cell_type": "code",
   "execution_count": 13,
   "id": "80b22c40",
   "metadata": {},
   "outputs": [
    {
     "name": "stdout",
     "output_type": "stream",
     "text": [
      "Files already downloaded and verified\n"
     ]
    }
   ],
   "source": [
    "dataset_test = torchvision.datasets.CIFAR10(root=\"tempdata\", train = False, download=True)"
   ]
  },
  {
   "cell_type": "code",
   "execution_count": 14,
   "id": "d3c1c116",
   "metadata": {},
   "outputs": [
    {
     "data": {
      "text/plain": [
       "((50000, 32, 32, 3), (10000, 32, 32, 3))"
      ]
     },
     "execution_count": 14,
     "metadata": {},
     "output_type": "execute_result"
    }
   ],
   "source": [
    "dataset_base.data.shape, dataset_test.data.shape"
   ]
  },
  {
   "cell_type": "code",
   "execution_count": 22,
   "id": "19a41c43",
   "metadata": {},
   "outputs": [],
   "source": [
    "def get_partitions(file_):\n",
    "        file = os.path.join(file_)\n",
    "        try:\n",
    "            with open(file, 'rb') as f:\n",
    "                partitions = pickle.load(f)\n",
    "        except:\n",
    "            raise\n",
    "\n",
    "        return partitions\n",
    "    \n",
    "data_file_name = \"CIFAR10-dirichlet-10-0.05-0.p.p\""
   ]
  },
  {
   "cell_type": "code",
   "execution_count": 23,
   "id": "de51d26d",
   "metadata": {},
   "outputs": [],
   "source": [
    "loaded_partitions = get_partitions(os.path.join('../data/dirichlet-CIFAR10', data_file_name))"
   ]
  },
  {
   "cell_type": "code",
   "execution_count": 28,
   "id": "0d8a20c8",
   "metadata": {},
   "outputs": [
    {
     "data": {
      "text/plain": [
       "(dict, dict_keys(['train', 'validation', 'test']), 10, dict)"
      ]
     },
     "execution_count": 28,
     "metadata": {},
     "output_type": "execute_result"
    }
   ],
   "source": [
    "type(loaded_partitions), loaded_partitions.keys(), len(loaded_partitions['train']), type(loaded_partitions['train'])"
   ]
  },
  {
   "cell_type": "code",
   "execution_count": 30,
   "id": "e40d0763",
   "metadata": {},
   "outputs": [
    {
     "data": {
      "text/plain": [
       "(dict_keys([0, 1, 2, 3, 4, 5, 6, 7, 8, 9]), 8171)"
      ]
     },
     "execution_count": 30,
     "metadata": {},
     "output_type": "execute_result"
    }
   ],
   "source": [
    "loaded_partitions['train'].keys(), len(loaded_partitions['train'][0])"
   ]
  },
  {
   "cell_type": "code",
   "execution_count": null,
   "id": "5cbe9f0d",
   "metadata": {},
   "outputs": [],
   "source": []
  }
 ],
 "metadata": {
  "kernelspec": {
   "display_name": "Python 3 (ipykernel)",
   "language": "python",
   "name": "python3"
  },
  "language_info": {
   "codemirror_mode": {
    "name": "ipython",
    "version": 3
   },
   "file_extension": ".py",
   "mimetype": "text/x-python",
   "name": "python",
   "nbconvert_exporter": "python",
   "pygments_lexer": "ipython3",
   "version": "3.9.0"
  }
 },
 "nbformat": 4,
 "nbformat_minor": 5
}
