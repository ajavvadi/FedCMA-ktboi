{
 "cells": [
  {
   "cell_type": "code",
   "execution_count": 1,
   "id": "39388eae",
   "metadata": {},
   "outputs": [],
   "source": [
    "import os\n",
    "\n",
    "import torch\n",
    "import torchvision\n",
    "\n",
    "import numpy as np\n",
    "import pickle"
   ]
  },
  {
   "cell_type": "code",
   "execution_count": 9,
   "id": "5c27e03e",
   "metadata": {},
   "outputs": [
    {
     "name": "stdout",
     "output_type": "stream",
     "text": [
      "Files already downloaded and verified\n",
      "Files already downloaded and verified\n",
      "train shape: (10000, 32, 32, 3)\n",
      "test shape: (10000, 32, 32, 3)\n"
     ]
    }
   ],
   "source": [
    "dataset_base = torchvision.datasets.CIFAR10(root=\"tempdata\", train = True, download=True)\n",
    "dataset_test = torchvision.datasets.CIFAR10(root=\"tempdata\", train = False, download=True)\n",
    "print(\"train shape: {1}\\ntest shape: {1}\".format(dataset_base.data.shape, dataset_test.data.shape))"
   ]
  },
  {
   "cell_type": "code",
   "execution_count": null,
   "id": "80b22c40",
   "metadata": {},
   "outputs": [],
   "source": []
  },
  {
   "cell_type": "code",
   "execution_count": null,
   "id": "d3c1c116",
   "metadata": {},
   "outputs": [],
   "source": []
  },
  {
   "cell_type": "code",
   "execution_count": 10,
   "id": "19a41c43",
   "metadata": {},
   "outputs": [],
   "source": [
    "def get_partitions(file_):\n",
    "        file = os.path.join(file_)\n",
    "        try:\n",
    "            with open(file, 'rb') as f:\n",
    "                partitions = pickle.load(f)\n",
    "        except:\n",
    "            raise\n",
    "\n",
    "        return partitions\n",
    "    \n",
    "data_file_name = \"CIFAR10-dirichlet-10-0.05-0.p.p\""
   ]
  },
  {
   "cell_type": "code",
   "execution_count": 11,
   "id": "de51d26d",
   "metadata": {},
   "outputs": [],
   "source": [
    "loaded_partitions = get_partitions(os.path.join('../data/dirichlet-CIFAR10', data_file_name))"
   ]
  },
  {
   "cell_type": "code",
   "execution_count": 12,
   "id": "0d8a20c8",
   "metadata": {},
   "outputs": [
    {
     "data": {
      "text/plain": [
       "(dict, dict_keys(['train', 'validation', 'test']), 10, dict)"
      ]
     },
     "execution_count": 12,
     "metadata": {},
     "output_type": "execute_result"
    }
   ],
   "source": [
    "type(loaded_partitions), loaded_partitions.keys(), len(loaded_partitions['train']), type(loaded_partitions['train'])"
   ]
  },
  {
   "cell_type": "code",
   "execution_count": 14,
   "id": "e40d0763",
   "metadata": {},
   "outputs": [
    {
     "data": {
      "text/plain": [
       "(dict_keys([0, 1, 2, 3, 4, 5, 6, 7, 8, 9]), 8171)"
      ]
     },
     "execution_count": 14,
     "metadata": {},
     "output_type": "execute_result"
    }
   ],
   "source": [
    "loaded_partitions['train'].keys(), len(loaded_partitions['train'][0])"
   ]
  },
  {
   "cell_type": "code",
   "execution_count": 29,
   "id": "5cbe9f0d",
   "metadata": {},
   "outputs": [
    {
     "name": "stdout",
     "output_type": "stream",
     "text": [
      "train_sum_original: 44996, train_set: 44996\n",
      "test_sum_original: 47000, test_set: 10000\n",
      "validation_sum_original: 5004, validation_set: 5004\n"
     ]
    }
   ],
   "source": [
    "train_set = set()\n",
    "test_set = set()\n",
    "validation_set = set()\n",
    "\n",
    "train_sum_original = 0\n",
    "#train_sum_set = 0\n",
    "test_sum_original = 0\n",
    "#test_sum_set = 0\n",
    "validation_sum_original = 0\n",
    "#validation_sum_set = 0\n",
    "\n",
    "for i in list(loaded_partitions['train'].keys()):\n",
    "    # print(\"num data for {0}th worker: {1}\".format(i, len(loaded_partitions['train'][i])))\n",
    "    train_sum_original += len(loaded_partitions['train'][i])\n",
    "    for filename in loaded_partitions['train'][i]:\n",
    "        train_set.add(int(filename))\n",
    "for i in list(loaded_partitions['test'].keys()):\n",
    "    # print(\"num data for {0}th worker: {1}\".format(i, len(loaded_partitions['test'][i])))\n",
    "    test_sum_original += len(loaded_partitions['test'][i])\n",
    "    for filename in loaded_partitions['test'][i]:\n",
    "        test_set.add(int(filename))\n",
    "for i in list(loaded_partitions['validation'].keys()):\n",
    "    # print(\"num data for {0}th worker: {1}\".format(i, len(loaded_partitions['validation'][i])))\n",
    "    validation_sum_original += len(loaded_partitions['validation'][i])\n",
    "    for filename in loaded_partitions['validation'][i]:\n",
    "        validation_set.add(int(filename))\n",
    "\n",
    "print(\"train_sum_original: {0}, train_set: {1}\".format(train_sum_original, len(train_set)))\n",
    "print(\"test_sum_original: {0}, test_set: {1}\".format(test_sum_original, len(test_set)))\n",
    "print(\"validation_sum_original: {0}, validation_set: {1}\".format(validation_sum_original, len(validation_set)))"
   ]
  },
  {
   "cell_type": "code",
   "execution_count": 31,
   "id": "e4adc883",
   "metadata": {},
   "outputs": [
    {
     "name": "stdout",
     "output_type": "stream",
     "text": [
      "num files in all_set: 50000\n"
     ]
    }
   ],
   "source": [
    "all_set = set.union(train_set, test_set, validation_set)\n",
    "print(\"num files in all_set: {0}\".format(len(all_set)))\n",
    "for i in range(len(all_set)):\n",
    "    if i not in all_set:\n",
    "        print(\"{0} not found\".format(i))"
   ]
  },
  {
   "cell_type": "code",
   "execution_count": 32,
   "id": "0d6a4e38",
   "metadata": {},
   "outputs": [],
   "source": [
    "all_dataset_length = 50000 \n",
    "train_dataset_length = 44996\n",
    "test_dataset_length = 10000\n",
    "validation_dataset_length = 5004\n"
   ]
  },
  {
   "cell_type": "code",
   "execution_count": 39,
   "id": "240de059",
   "metadata": {},
   "outputs": [
    {
     "ename": "ModuleNotFoundError",
     "evalue": "No module named 'shuffle'",
     "output_type": "error",
     "traceback": [
      "\u001b[0;31m---------------------------------------------------------------------------\u001b[0m",
      "\u001b[0;31mModuleNotFoundError\u001b[0m                       Traceback (most recent call last)",
      "Cell \u001b[0;32mIn[39], line 1\u001b[0m\n\u001b[0;32m----> 1\u001b[0m \u001b[38;5;28;01mfrom\u001b[39;00m \u001b[38;5;21;01mshuffle\u001b[39;00m \u001b[38;5;28;01mimport\u001b[39;00m shuffled\n\u001b[1;32m      2\u001b[0m random_list \u001b[38;5;241m=\u001b[39m \u001b[38;5;28mlist\u001b[39m(shuffled(all_dataset_length, \u001b[38;5;241m1\u001b[39m))\n\u001b[1;32m      3\u001b[0m random\u001b[38;5;241m.\u001b[39mshuffle(random_list)\n",
      "\u001b[0;31mModuleNotFoundError\u001b[0m: No module named 'shuffle'"
     ]
    }
   ],
   "source": [
    "from shuffle import shuffled\n",
    "random_list = list(shuffled(all_dataset_length, 1))\n",
    "random.shuffle(random_list)\n",
    "print(len(random_list))\n",
    "print(len(set(random_list)))"
   ]
  },
  {
   "cell_type": "code",
   "execution_count": null,
   "id": "a5413afa",
   "metadata": {},
   "outputs": [],
   "source": [
    "train_file_name"
   ]
  }
 ],
 "metadata": {
  "kernelspec": {
   "display_name": "Python 3 (ipykernel)",
   "language": "python",
   "name": "python3"
  },
  "language_info": {
   "codemirror_mode": {
    "name": "ipython",
    "version": 3
   },
   "file_extension": ".py",
   "mimetype": "text/x-python",
   "name": "python",
   "nbconvert_exporter": "python",
   "pygments_lexer": "ipython3",
   "version": "3.8.17"
  }
 },
 "nbformat": 4,
 "nbformat_minor": 5
}
