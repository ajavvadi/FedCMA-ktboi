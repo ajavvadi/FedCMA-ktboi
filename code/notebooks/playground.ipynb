{
 "cells": [
  {
   "cell_type": "code",
   "execution_count": 67,
   "id": "56e1b36b",
   "metadata": {},
   "outputs": [],
   "source": [
    "import pickle\n",
    "import numpy as np\n",
    "\n",
    "datapath = '..\\data\\dirichlet-CIFAR10\\CIFAR10-dirichlet-10-0.05-0.p.p'"
   ]
  },
  {
   "cell_type": "code",
   "execution_count": 13,
   "id": "231e0dd2",
   "metadata": {},
   "outputs": [],
   "source": [
    "alldata = []\n",
    "with open(datapath, 'rb') as f_h:\n",
    "    alldata = pickle.load(f_h)"
   ]
  },
  {
   "cell_type": "code",
   "execution_count": 11,
   "id": "01ef152c",
   "metadata": {},
   "outputs": [
    {
     "name": "stdout",
     "output_type": "stream",
     "text": [
      "['dirichlet-CIFAR10', 'synthdata']\n",
      "['CIFAR10-dirichlet-10-0.05-0.p.p', 'CIFAR10-dirichlet-10-0.05-1.p.p', 'CIFAR10-dirichlet-10-0.05-2.p.p', 'CIFAR10-dirichlet-10-0.1-0.p.p', 'CIFAR10-dirichlet-10-0.1-1.p.p', 'CIFAR10-dirichlet-10-0.1-2.p.p', 'CIFAR10-dirichlet-100-0.05-0.p.p', 'CIFAR10-dirichlet-100-0.05-1.p.p', 'CIFAR10-dirichlet-100-0.05-2.p.p', 'CIFAR10-dirichlet-100-0.1-0.p.p', 'CIFAR10-dirichlet-100-0.1-1.p.p', 'CIFAR10-dirichlet-100-0.1-2.p.p', 'CIFAR10-dirichlet-20-0.05-0.p.p', 'CIFAR10-dirichlet-20-0.05-1.p.p', 'CIFAR10-dirichlet-20-0.05-2.p.p', 'CIFAR10-dirichlet-20-0.1-0.p.p', 'CIFAR10-dirichlet-20-0.1-1.p.p', 'CIFAR10-dirichlet-20-0.1-2.p.p', 'CIFAR10-dirichlet-50-0.05-0.p.p', 'CIFAR10-dirichlet-50-0.05-1.p.p', 'CIFAR10-dirichlet-50-0.05-2.p.p', 'CIFAR10-dirichlet-50-0.1-0.p.p', 'CIFAR10-dirichlet-50-0.1-1.p.p', 'CIFAR10-dirichlet-50-0.1-2.p.p']\n"
     ]
    }
   ],
   "source": [
    "import os\n",
    "print(os.listdir(\"..\\data\"))\n",
    "print(os.listdir(\"..\\data\\dirichlet-CIFAR10\"))"
   ]
  },
  {
   "cell_type": "code",
   "execution_count": 29,
   "id": "504e3e54",
   "metadata": {},
   "outputs": [
    {
     "name": "stdout",
     "output_type": "stream",
     "text": [
      "<class 'dict'>\n",
      "dict_keys(['train', 'validation', 'test'])\n",
      "<class 'dict'> <class 'dict'> <class 'dict'>\n",
      "dict_keys([0, 1, 2, 3, 4, 5, 6, 7, 8, 9]) dict_keys([0, 1, 2, 3, 4, 5, 6, 7, 8, 9]) dict_keys([0, 1, 2, 3, 4, 5, 6, 7, 8, 9])\n"
     ]
    }
   ],
   "source": [
    "print(type(alldata))\n",
    "print(alldata.keys())\n",
    "print(type(alldata['train']), type(alldata['validation']), type(alldata['test']))\n",
    "print(alldata['train'].keys(), alldata['validation'].keys(), alldata['test'].keys())"
   ]
  },
  {
   "cell_type": "code",
   "execution_count": 70,
   "id": "e92767c5",
   "metadata": {},
   "outputs": [
    {
     "name": "stdout",
     "output_type": "stream",
     "text": [
      "train, class: 0, minval: 8, maxval: 49993, num_samples: 8171\n",
      "train, class: 1, minval: 2183, maxval: 49315, num_samples: 45\n",
      "train, class: 2, minval: 9, maxval: 49989, num_samples: 6451\n",
      "train, class: 3, minval: 0, maxval: 49996, num_samples: 4140\n",
      "train, class: 4, minval: 10, maxval: 49984, num_samples: 1060\n",
      "train, class: 5, minval: 6, maxval: 49995, num_samples: 6334\n",
      "train, class: 6, minval: 1, maxval: 49997, num_samples: 7866\n",
      "train, class: 7, minval: 4, maxval: 49998, num_samples: 7267\n",
      "train, class: 8, minval: 40, maxval: 49964, num_samples: 2091\n",
      "train, class: 9, minval: 29, maxval: 49992, num_samples: 1571\n",
      "test, class: 0, minval: 0, maxval: 9999, num_samples: 7000\n",
      "test, class: 1, minval: 4, maxval: 9997, num_samples: 2000\n",
      "test, class: 2, minval: 0, maxval: 9998, num_samples: 4000\n",
      "test, class: 3, minval: 3, maxval: 9998, num_samples: 4000\n",
      "test, class: 4, minval: 0, maxval: 9996, num_samples: 4000\n",
      "test, class: 5, minval: 3, maxval: 9998, num_samples: 3000\n",
      "test, class: 6, minval: 0, maxval: 9998, num_samples: 5000\n",
      "test, class: 7, minval: 4, maxval: 9999, num_samples: 4000\n",
      "test, class: 8, minval: 3, maxval: 9997, num_samples: 4000\n",
      "test, class: 9, minval: 0, maxval: 9999, num_samples: 10000\n",
      "validation, class: 0, minval: 111, maxval: 49999, num_samples: 908\n",
      "validation, class: 1, minval: 839, maxval: 41094, num_samples: 6\n",
      "validation, class: 2, minval: 17, maxval: 49958, num_samples: 717\n",
      "validation, class: 3, minval: 125, maxval: 49952, num_samples: 460\n",
      "validation, class: 4, minval: 296, maxval: 49365, num_samples: 118\n",
      "validation, class: 5, minval: 120, maxval: 49987, num_samples: 704\n",
      "validation, class: 6, minval: 15, maxval: 49963, num_samples: 875\n",
      "validation, class: 7, minval: 87, maxval: 49939, num_samples: 808\n",
      "validation, class: 8, minval: 528, maxval: 49482, num_samples: 233\n",
      "validation, class: 9, minval: 116, maxval: 49067, num_samples: 175\n",
      "Train: 44996, %Train: 46.38762886597938\n",
      "Test:47000, %Test: 48.45360824742268 \n",
      "Validation: 5004 %Validation: 5.1587628865979385\n",
      "Total: 97000\n"
     ]
    }
   ],
   "source": [
    "def count_items(temp_dict, key):\n",
    "    val = 0\n",
    "    for class_key in [0, 1, 2, 3, 4, 5, 6, 7, 8, 9]:\n",
    "        minval = np.inf; maxval = -np.inf;\n",
    "        val += len(temp_dict[key][class_key])\n",
    "        maxval = max(maxval, max(temp_dict[key][class_key]))\n",
    "        minval = min(minval, min(temp_dict[key][class_key]))\n",
    "        print(\"{}, class: {}, minval: {}, maxval: {}, num_samples: {}\".format(key, class_key, minval, maxval,\n",
    "                                                                             len(temp_dict[key][class_key])))\n",
    "    return val\n",
    "\n",
    "num_train = count_items(alldata, 'train'); \n",
    "num_test = count_items(alldata, 'test'); \n",
    "num_val = count_items(alldata, 'validation');\n",
    "num_total = num_train+num_test+num_val;\n",
    "per_train = 100 * float(num_train)/num_total; \n",
    "per_test = 100 * float(num_test)/num_total; \n",
    "per_val = 100 * float(num_val)/num_total;\n",
    "\n",
    "print(\"Train: {}, %Train: {}\\nTest:{}, %Test: {} \\nValidation: {} %Validation: {}\\nTotal: {}\".format(\n",
    "    num_train, per_train, num_test, per_test, num_val, per_val, num_total))"
   ]
  },
  {
   "cell_type": "code",
   "execution_count": 49,
   "id": "2a7a8d2c",
   "metadata": {},
   "outputs": [
    {
     "data": {
      "text/plain": [
       "37148"
      ]
     },
     "execution_count": 49,
     "metadata": {},
     "output_type": "execute_result"
    }
   ],
   "source": []
  },
  {
   "cell_type": "code",
   "execution_count": 57,
   "id": "a92571b9",
   "metadata": {},
   "outputs": [],
   "source": [
    "parent = dict()\n",
    "for i in range(10):\n",
    "    parent[i] = list()\n",
    "\n",
    "for pkey in alldata.keys():\n",
    "    for ckey in alldata[pkey]:\n",
    "        parent[ckey].extend(alldata[pkey][ckey])"
   ]
  },
  {
   "cell_type": "code",
   "execution_count": 63,
   "id": "27b54c6f",
   "metadata": {},
   "outputs": [
    {
     "name": "stdout",
     "output_type": "stream",
     "text": [
      "key: 0, num items: 16079\n",
      "key: 1, num items: 2051\n",
      "key: 2, num items: 11168\n",
      "key: 3, num items: 8600\n",
      "key: 4, num items: 5178\n",
      "key: 5, num items: 10038\n",
      "key: 6, num items: 13741\n",
      "key: 7, num items: 12075\n",
      "key: 8, num items: 6324\n",
      "key: 9, num items: 11746\n",
      "total: 97000, min: 0, max: 49999\n"
     ]
    }
   ],
   "source": [
    "temptotal = 0\n",
    "maxval, minval = 0, 100\n",
    "for key in parent.keys():\n",
    "    print(\"key: {}, num items: {}\".format(key, len(parent[key])))\n",
    "    temptotal += len(parent[key])\n",
    "    maxval = max(maxval, max(parent[key]))\n",
    "    minval = min(minval, min(parent[key]))\n",
    "print(\"total: {}, min: {}, max: {}\".format(temptotal, minval, maxval))"
   ]
  },
  {
   "cell_type": "code",
   "execution_count": 69,
   "id": "fbc32138",
   "metadata": {},
   "outputs": [],
   "source": []
  },
  {
   "cell_type": "code",
   "execution_count": null,
   "id": "55974252",
   "metadata": {},
   "outputs": [],
   "source": []
  }
 ],
 "metadata": {
  "kernelspec": {
   "display_name": "Python 3 (ipykernel)",
   "language": "python",
   "name": "python3"
  },
  "language_info": {
   "codemirror_mode": {
    "name": "ipython",
    "version": 3
   },
   "file_extension": ".py",
   "mimetype": "text/x-python",
   "name": "python",
   "nbconvert_exporter": "python",
   "pygments_lexer": "ipython3",
   "version": "3.9.0"
  }
 },
 "nbformat": 4,
 "nbformat_minor": 5
}
